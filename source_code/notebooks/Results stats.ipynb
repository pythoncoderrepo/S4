{
 "cells": [
  {
   "cell_type": "code",
   "execution_count": 6,
   "metadata": {},
   "outputs": [],
   "source": [
    "import pandas as pd\n",
    "\n",
    "files = !ls {RESULTS_OUTPUT_PATH}/*/*/*.csv\n",
    "files = [i for i in files if \"nan\" not in i]\n",
    "def read_time_result(i):\n",
    "    df = pd.read_csv(i).T\n",
    "    df.columns = [\"dataset\",\"query\", \"pivot_arg\", \"segmentation_arg\", \"approach\", \"alpha\", \"time1\", \"time2\", \"time3\",\"#(e,h)\", \"min_p_value\", \"#huchberk\", \"max_coverage\", \"#s4\", \"budget\",\"#independent\"]\n",
    "    columns = [\"dataset\",\"query\", \"pivot_arg\", \"segmentation_arg\", \"approach\", \"alpha\", \"#(e,h)\",\"#independent\",\"#huchberk\",\"#s4\", \"min_p_value\",  \"max_coverage\",  \"budget\",\"time1\", \"time2\", \"time3\",]\n",
    "    return df[columns]"
   ]
  },
  {
   "cell_type": "code",
   "execution_count": 7,
   "metadata": {},
   "outputs": [],
   "source": [
    "files = !ls {TIME_OUTPUT_PATH}/*.csv\n",
    "files = [i for i in files ]\n",
    "df_stats = pd.DataFrame()\n",
    "for i in files:\n",
    "    df_stats =pd.concat( [df_stats, read_time_result(i)])\n",
    "df_stats = df_stats.set_index([\"dataset\",\"query\",\"approach\",\"alpha\",\"pivot_arg\",\"segmentation_arg\"]).sort_index()\n",
    "df_stats = df_stats.loc[\"Retail\"]\n",
    "df_stats"
   ]
  },
  {
   "cell_type": "code",
   "execution_count": null,
   "outputs": [],
   "source": [],
   "metadata": {
    "collapsed": false,
    "pycharm": {
     "name": "#%%\n"
    }
   }
  }
 ],
 "metadata": {
  "kernelspec": {
   "display_name": "Python 3",
   "language": "python",
   "name": "python3"
  },
  "language_info": {
   "codemirror_mode": {
    "name": "ipython",
    "version": 3
   },
   "file_extension": ".py",
   "mimetype": "text/x-python",
   "name": "python",
   "nbconvert_exporter": "python",
   "pygments_lexer": "ipython3",
   "version": "3.8.5"
  }
 },
 "nbformat": 4,
 "nbformat_minor": 4
}